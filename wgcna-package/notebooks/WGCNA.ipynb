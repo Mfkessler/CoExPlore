{
 "cells": [
  {
   "cell_type": "markdown",
   "metadata": {},
   "source": [
    "# WGCNA\n",
    "## Finding modules using weighted gene co-expression network analysis (WGCNA)"
   ]
  },
  {
   "cell_type": "markdown",
   "metadata": {},
   "source": [
    "Load packages"
   ]
  },
  {
   "cell_type": "code",
   "execution_count": null,
   "metadata": {},
   "outputs": [],
   "source": [
    "import PyWGCNA\n",
    "import wgcna.utils as rutils\n",
    "import matplotlib.pyplot as plt\n",
    "import pandas as pd\n",
    "\n",
    "plt.rcParams['savefig.bbox'] = 'tight'\n",
    "plt.rcParams['axes.labelsize'] = 10\n",
    "pd.set_option('display.max_rows', 10)\n",
    "\n",
    "%load_ext autoreload\n",
    "%autoreload 2"
   ]
  },
  {
   "cell_type": "markdown",
   "metadata": {},
   "source": [
    "## Perform WGCNA"
   ]
  },
  {
   "cell_type": "markdown",
   "metadata": {},
   "source": [
    "Settings"
   ]
  },
  {
   "cell_type": "code",
   "execution_count": null,
   "metadata": {},
   "outputs": [],
   "source": [
    "# Species name and alias\n",
    "species = \"Species 1\"\n",
    "name = 'S1'\n",
    "\n",
    "# Paths for count matrix and metadata\n",
    "count_matrix = \"../../input/testdata_out/S1.isoform.TMM.matrix\"\n",
    "sample_mapping = \"../../input/testdata_out/S1.sample_mapping.tsv\"\n",
    "iprid = \"../../input/testdata_out/S1.iprid.tsv\"\n",
    "goid = \"../../input/testdata_out/S1.goid.tsv\"\n",
    "orthogroups = \"../../input/testdata_out/N0.tsv\"\n",
    "\n",
    "# Set save options\n",
    "save_tom = True\n",
    "save_adjacency_matrix = False\n",
    "save_WGCNA = False\n",
    "figure_type = \"png\"\n",
    "\n",
    "# Reduce the count matrix size?\n",
    "reduce_matrix = False\n",
    "\n",
    "# Output path\n",
    "output_path = f\"/vol/blast/wgcna/output/{name}/\""
   ]
  },
  {
   "cell_type": "markdown",
   "metadata": {},
   "source": [
    "Prepare WGCNA object"
   ]
  },
  {
   "cell_type": "code",
   "execution_count": null,
   "metadata": {},
   "outputs": [],
   "source": [
    "print(\"Preparing WGCNA object for\", name, \"dataset...\")\n",
    "\n",
    "# Print general settings\n",
    "print(\"Species:\", species)\n",
    "print(\"Alias:\", name)\n",
    "print(\"Count matrix:\", count_matrix)\n",
    "print(\"Sample mapping:\", sample_mapping)\n",
    "print(\"InterPro:\", iprid)\n",
    "print(\"GO Terms:\", goid)\n",
    "print(\"Orthogroups:\", orthogroups)\n",
    "print(\"Output path:\", output_path)\n",
    "\n",
    "# Print save options\n",
    "print(\"Save TOM:\", save_tom)\n",
    "print(\"Save adjacency matrix:\", save_adjacency_matrix)\n",
    "print(\"Save WGCNA results:\", save_WGCNA)\n",
    "\n",
    "# Print reduce matrix option\n",
    "print(\"Reduce matrix:\", reduce_matrix)\n",
    "\n",
    "# Output file for transformed count matrix\n",
    "matrix_file = f\"{output_path}{name}_matrix.csv\"\n",
    "\n",
    "# Transform and save count table, create pyWGCNA object\n",
    "rutils.create_dir(output_path)\n",
    "count_df = rutils.transform_count_matrix(count_matrix)\n",
    "if reduce_matrix:\n",
    "    count_df = rutils.remove_random_columns(count_df, percentage=0.9)\n",
    "count_df.to_csv(matrix_file, index=False)\n",
    "\n",
    "pyWGCNA_obj = PyWGCNA.WGCNA(\n",
    "    name=name, \n",
    "    species=species, \n",
    "    geneExpPath=matrix_file, \n",
    "    outputPath=output_path,\n",
    "    figureType=figure_type,\n",
    "    save=True\n",
    ")\n",
    "pyWGCNA_obj.updateSampleInfo(path=sample_mapping, sep='\\t')"
   ]
  },
  {
   "cell_type": "code",
   "execution_count": null,
   "metadata": {},
   "outputs": [],
   "source": [
    "!tree {output_path}"
   ]
  },
  {
   "cell_type": "markdown",
   "metadata": {},
   "source": [
    "Find Modules"
   ]
  },
  {
   "cell_type": "code",
   "execution_count": null,
   "metadata": {},
   "outputs": [],
   "source": [
    "print(\"Starting WGCNA analysis...\")\n",
    "\n",
    "# Perform preprocessing\n",
    "print(\"Preprocessing data...\")\n",
    "pyWGCNA_obj.preprocess()\n",
    "\n",
    "# Try to find modules\n",
    "print(\"Finding modules...\")\n",
    "pyWGCNA_obj.findModules()\n",
    "\n",
    "# Set colors for metadata\n",
    "rutils.add_combined_column(pyWGCNA_obj.datExpr, drop_others=True)\n",
    "pyWGCNA_obj.setMetadataColor(\n",
    "    \"Combined_Trait\", \n",
    "    rutils.generate_stage_color_dict(\n",
    "        custom_stages=pyWGCNA_obj.datExpr.obs[\"Combined_Trait\"].unique().tolist()\n",
    "    )\n",
    ")"
   ]
  },
  {
   "cell_type": "code",
   "execution_count": null,
   "metadata": {},
   "outputs": [],
   "source": [
    "!tree {output_path}"
   ]
  },
  {
   "cell_type": "markdown",
   "metadata": {},
   "source": [
    "Analyze Modules"
   ]
  },
  {
   "cell_type": "code",
   "execution_count": null,
   "metadata": {},
   "outputs": [],
   "source": [
    "pyWGCNA_obj.analyseWGCNA(show=False)"
   ]
  },
  {
   "cell_type": "code",
   "execution_count": null,
   "metadata": {},
   "outputs": [],
   "source": [
    "!tree {output_path}"
   ]
  },
  {
   "cell_type": "markdown",
   "metadata": {},
   "source": [
    "Save and process .h5ad"
   ]
  },
  {
   "cell_type": "code",
   "execution_count": null,
   "metadata": {},
   "outputs": [],
   "source": [
    "# Process GO terms and IPR\n",
    "gaf_path = goid if goid.endswith(\".gaf.gz\") else None\n",
    "ortho_file = orthogroups if orthogroups.endswith(\".tsv\") else None\n",
    "\n",
    "if not gaf_path and goid.endswith(\".tsv\"):\n",
    "    rutils.add_go_terms_to_adata(pyWGCNA_obj.datExpr, goid)\n",
    "\n",
    "if iprid:\n",
    "    rutils.add_ipr_columns(pyWGCNA_obj.datExpr, iprid)\n",
    "\n",
    "rutils.prepare_and_save_wgcna(\n",
    "    pyWGCNA_obj, \n",
    "    output_path, \n",
    "    gaf_path=gaf_path, \n",
    "    ortho_file=ortho_file, \n",
    "    save_tom=save_tom, \n",
    "    save_adjacency_matrix=save_adjacency_matrix, \n",
    "    save_WGCNA=save_WGCNA\n",
    ")"
   ]
  },
  {
   "cell_type": "code",
   "execution_count": null,
   "metadata": {},
   "outputs": [],
   "source": [
    "!tree {output_path}"
   ]
  }
 ],
 "metadata": {
  "kernelspec": {
   "display_name": "wgcna-package",
   "language": "python",
   "name": "wgcna-package"
  },
  "language_info": {
   "codemirror_mode": {
    "name": "ipython",
    "version": 3
   },
   "file_extension": ".py",
   "mimetype": "text/x-python",
   "name": "python",
   "nbconvert_exporter": "python",
   "pygments_lexer": "ipython3",
   "version": "3.8.19"
  }
 },
 "nbformat": 4,
 "nbformat_minor": 4
}
