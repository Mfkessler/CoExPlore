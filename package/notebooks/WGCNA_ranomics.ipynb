{
 "cells": [
  {
   "cell_type": "markdown",
   "id": "baee027c-506b-4539-92e5-d8def7c4e129",
   "metadata": {},
   "source": [
    "# AnnData and WGCNA"
   ]
  },
  {
   "cell_type": "markdown",
   "id": "f5b001f5-d146-46aa-8a1a-dddc31d6e472",
   "metadata": {},
   "source": [
    "This notebook creates a WGCNA object for each dataset and saves the results in the output folder.\n",
    "\n",
    "The steps include:\n",
    "1. Load the count matrix and metadata\n",
    "2. Create a WGCNA object\n",
    "3. Perform preprocessing\n",
    "4. Find modules\n",
    "5. Analyze WGCNA object\n",
    "6. Save WGCNA results"
   ]
  },
  {
   "cell_type": "markdown",
   "id": "3f135924-3047-490d-ac39-648109742d4c",
   "metadata": {},
   "source": [
    "## Packages"
   ]
  },
  {
   "cell_type": "code",
   "execution_count": 43,
   "id": "70ef52e4-efbe-4335-b369-e13e6f8fee08",
   "metadata": {},
   "outputs": [
    {
     "name": "stdout",
     "output_type": "stream",
     "text": [
      "Running in Docker.\n",
      "The autoreload extension is already loaded. To reload it, use:\n",
      "  %reload_ext autoreload\n"
     ]
    }
   ],
   "source": [
    "import sys\n",
    "import psutil\n",
    "import os\n",
    "import PyWGCNA\n",
    "import numpy as np\n",
    "import pandas as pd\n",
    "import anndata as ad\n",
    "import wgcna.utils as rutils\n",
    "import matplotlib.pyplot as plt\n",
    "from memory_profiler import profile\n",
    "from kneed import KneeLocator\n",
    "from scipy.stats import median_abs_deviation\n",
    "\n",
    "%load_ext autoreload\n",
    "%autoreload 2"
   ]
  },
  {
   "cell_type": "markdown",
   "id": "71364045-3be5-481d-861c-85397153f57b",
   "metadata": {},
   "source": [
    "## Settings"
   ]
  },
  {
   "cell_type": "code",
   "execution_count": 52,
   "id": "6ebf90f8-2371-4a55-a773-6c2b25168b61",
   "metadata": {},
   "outputs": [],
   "source": [
    "# Set matplotlib parameters\n",
    "plt.rcParams['savefig.bbox'] = 'tight'\n",
    "\n",
    "# Define count matrices path\n",
    "count_matrices = \"/vol/share/ranomics_app/count_matrices2\"\n",
    "\n",
    "# Define datasets\n",
    "names = ['AC', 'PS', 'CS', 'EC', 'EG', 'HC', 'SP', 'TT']\n",
    "names = ['AC']\n",
    "\n",
    "# Output\n",
    "output = \"/vol/share/ranomics_app/output_new\"\n",
    "\n",
    "# Set save options\n",
    "save_tom = False\n",
    "save_adjacency_matrix = False\n",
    "save_WGCNA = False\n",
    "figure_type = 'png'\n",
    "\n",
    "# Reduce the count matrix size?\n",
    "reduce_matrix = False"
   ]
  },
  {
   "cell_type": "markdown",
   "id": "7e6cde73-0040-4d07-b697-46b72db47deb",
   "metadata": {},
   "source": [
    "## Processing"
   ]
  },
  {
   "cell_type": "code",
   "execution_count": null,
   "id": "e4dc36fb-0046-4a58-96f3-036d90bfc9c4",
   "metadata": {},
   "outputs": [
    {
     "name": "stdout",
     "output_type": "stream",
     "text": [
      "Starting WGCNA for datasets: ['AC']\n",
      "Directory already exists at: /vol/share/ranomics_app/output_new/AC/\n",
      "Preparing WGCNA object for AC dataset...\n",
      "Input matrix: /vol/share/ranomics_app/count_matrices2/AC.isoform.TMM.EXPR.matrix\n",
      "Name: AC\n",
      "Output path: /vol/share/ranomics_app/output_new/AC/\n",
      "Save TOM: False\n",
      "Save adjacency matrix: False\n",
      "Save WGCNA results: False\n",
      "Reduce matrix: False\n",
      "Creating pyWGCNA object...\n",
      "AnnData: AnnData object with n_obs × n_vars = 11 × 41063\n",
      "    obs: 'tissue'\n",
      "    var: 'go_terms', 'n_go_terms', 'ortho_id', 'ortho_count', 'ipr_id', 'ipr_desc', 'pfam_id', 'pfam_desc', 'tf_family', 'ecnumber', 'genename', 'description', 'description_long'\n",
      "Filtered AnnData: AnnData object with n_obs × n_vars = 11 × 6606\n",
      "    obs: 'tissue'\n",
      "    var: 'go_terms', 'n_go_terms', 'ortho_id', 'ortho_count', 'ipr_id', 'ipr_desc', 'pfam_id', 'pfam_desc', 'tf_family', 'ecnumber', 'genename', 'description', 'description_long'\n",
      "Final AnnData shape: (11, 6606)\n",
      "\u001b[92mSaving data to be True, checking requirements ...\u001b[0m\n",
      "Starting WGCNA analysis...\n",
      "Preprocessing data...\n",
      "\u001b[1m\u001b[94mPre-processing...\u001b[0m\n",
      "\tDetecting genes and samples with too many missing values...\n",
      "\tDone pre-processing..\n",
      "\n",
      "Finding modules...\n",
      "\u001b[1m\u001b[94mRun WGCNA...\u001b[0m\n",
      "\u001b[96mpickSoftThreshold: calculating connectivity for given powers...\u001b[0m\n",
      "will use block size  6086\n",
      "    Power  SFT.R.sq     slope truncated R.sq      mean(k)    median(k)  \\\n",
      "0       1  0.787693  2.033039       0.813478  1681.168787  1586.541245   \n",
      "1       2  0.475368  0.723358       0.451507  1190.818948  1122.287987   \n",
      "2       3  0.166154  0.259224       0.187832   924.730718   885.042154   \n",
      "3       4  0.000166 -0.006321       0.052423   754.491751   729.865347   \n",
      "4       5   0.12134 -0.171574       0.186513   635.129758   613.120231   \n",
      "5       6  0.331497 -0.299493       0.452119    546.39785   522.313512   \n",
      "6       7  0.487044 -0.403878       0.578341   477.694545   453.163179   \n",
      "7       8  0.572943   -0.4807       0.668188   422.876091   397.256192   \n",
      "8       9  0.642962  -0.55019       0.749511   378.112357   349.815997   \n",
      "9      10   0.69115 -0.601653       0.802259   340.880168   310.252916   \n",
      "10     11  0.724839   -0.6501       0.834991   309.443995   274.603097   \n",
      "11     13  0.753677 -0.728505       0.867291   259.346073   219.617329   \n",
      "12     15  0.769053 -0.791058       0.891597   221.305315   178.661753   \n",
      "13     17  0.781661 -0.838054       0.908551    191.54067   147.571686   \n",
      "14     19  0.789502 -0.881709       0.918327   167.699929   123.982332   \n",
      "\n",
      "         max(k)  \n",
      "0   2415.699027  \n",
      "1   2010.049364  \n",
      "2   1754.635278  \n",
      "3   1570.507056  \n",
      "4   1427.669039  \n",
      "5   1311.878922  \n",
      "6   1215.132779  \n",
      "7   1132.492168  \n",
      "8   1060.700886  \n",
      "9    997.502137  \n",
      "10   941.269539  \n",
      "11   845.150628  \n",
      "12     765.6297  \n",
      "13   698.498312  \n",
      "14   640.944634  \n",
      "\u001b[92mNo power detected to have scale free network!\n",
      "Found the best given power which is 19.\u001b[0m\n",
      "\u001b[96mcalculating adjacency matrix ...\u001b[0m\n",
      "\tDone..\n",
      "\n"
     ]
    }
   ],
   "source": [
    "print(\"Starting WGCNA for datasets:\", names)\n",
    "for name in names:\n",
    "    output_path = f\"{output}/{name}/\"\n",
    "    rutils.create_dir(output_path)\n",
    "\n",
    "    # Prepare WGCNA object\n",
    "    print(\"Preparing WGCNA object for\", name, \"dataset...\")\n",
    "    print(\"Input matrix:\", input_matrix)\n",
    "    print(\"Name:\", name)\n",
    "    print(\"Output path:\", output_path)\n",
    "    print(\"Save TOM:\", save_tom)\n",
    "    print(\"Save adjacency matrix:\", save_adjacency_matrix)\n",
    "    print(\"Save WGCNA results:\", save_WGCNA)\n",
    "    print(\"Reduce matrix:\", reduce_matrix)\n",
    "\n",
    "    species = rutils.find_species_by_initials(name.split(\"_\")[0])\n",
    "\n",
    "    # Create pyWGCNA object using the matrix and metadata files\n",
    "    print(\"Creating pyWGCNA object...\")\n",
    "    pyWGCNA_obj = PyWGCNA.WGCNA(\n",
    "        name=name,\n",
    "        species=species,\n",
    "        anndata=rutils.create_anndata(name),\n",
    "        outputPath=output_path,\n",
    "        figureType=figure_type,\n",
    "        save=True\n",
    "    )\n",
    "    \n",
    "    # Set colors for metadata\n",
    "    unique_stages = pyWGCNA_obj.datExpr.obs[\"tissue\"].unique()\n",
    "    color_dict = rutils.generate_ranomics_color_dict(unique_stages)\n",
    "    pyWGCNA_obj.setMetadataColor(\"tissue\", color_dict)\n",
    "\n",
    "    # Start WGCNA analysis\n",
    "    print(\"Starting WGCNA analysis...\")\n",
    "\n",
    "    # Preprocessing\n",
    "    print(\"Preprocessing data...\")\n",
    "    pyWGCNA_obj.preprocess()\n",
    "\n",
    "    # Find modules\n",
    "    print(\"Finding modules...\")\n",
    "    pyWGCNA_obj.findModules()\n",
    "\n",
    "    print(\"Analyzing WGCNA object...\")\n",
    "    pyWGCNA_obj.analyseWGCNA()\n",
    "\n",
    "    # Prepare and save WGCNA\n",
    "    print(\"Preparing and saving WGCNA results...\")\n",
    "    tom = pyWGCNA_obj.TOM\n",
    "\n",
    "    # Knee threshold & Edgelist export\n",
    "    knee = rutils.detect_tom_threshold_from_array(\n",
    "        tom, \n",
    "        plot_path=f\"{output_path}figures/knee.{figure_type}\"\n",
    "    )\n",
    "    if knee is not None:\n",
    "        rutils.export_tom_edges_to_parquet(\n",
    "            tom, \n",
    "            knee, \n",
    "            f\"{output_path}{name}.parquet\"\n",
    "        )\n",
    "    else:\n",
    "        print(\"No knee detected, edge export skipped.\")\n",
    "    \n",
    "    # Store additional metadata\n",
    "    hub_genes = pyWGCNA_obj.top_n_hub_genes(n=100)\n",
    "    hub_dict = {color: data for color,\n",
    "                data in hub_genes.groupby('module_colors')}\n",
    "    for color, df in hub_dict.items():\n",
    "        df.index = df.index.get_level_values(1)\n",
    "        \n",
    "    adata.obsm[\"eigengenes\"] = pyWGCNA_obj.datME\n",
    "    adata.varm[\"eigengenes\"] = pyWGCNA_obj.signedKME\n",
    "\n",
    "    adata.uns[\"name\"] = name\n",
    "    adata.uns[\"output_path\"] = os.path.abspath(pyWGCNA_obj.outputPath)\n",
    "    adata.uns[\"power\"] = pyWGCNA_obj.power\n",
    "    adata.uns[\"species\"] = pyWGCNA_obj.species\n",
    "    adata.uns[\"network_type\"] = pyWGCNA_obj.networkType\n",
    "    adata.uns[\"TOM_type\"] = pyWGCNA_obj.TOMType\n",
    "    adata.uns[\"min_module_size\"] = pyWGCNA_obj.minModuleSize\n",
    "    adata.uns[\"sft\"] = pyWGCNA_obj.sft.astype(float)\n",
    "    adata.uns[\"gene_tree\"] = pyWGCNA_obj.geneTree\n",
    "    adata.uns[\"metadata_corr\"] = {\n",
    "        \"module_corr\": pyWGCNA_obj.moduleTraitCor, \"module_p\": pyWGCNA_obj.moduleTraitPvalue}\n",
    "    adata.uns[\"hub_genes\"] = hub_dict\n",
    "    adata.uns[\"num_transcripts\"] = pyWGCNA_obj.geneExpr.shape[1]\n",
    "\n",
    "    # Drop dynamicColors column if it exists\n",
    "    if 'dynamicColors' in adata.var:\n",
    "        adata.var.drop(columns='dynamicColors', inplace=True)\n",
    "\n",
    "    sc.pp.calculate_qc_metrics(adata, inplace=True)\n",
    "    # Drop n_cells_by_counts column\n",
    "    adata.var.drop(columns=\"n_cells_by_counts\", axis=1, inplace=True)\n",
    "\n",
    "    # Round float columns to n decimal places\n",
    "    float_cols = adata.var.select_dtypes(include=['float64']).columns\n",
    "    adata.var[float_cols] = adata.var[float_cols].round(n)\n",
    "\n",
    "    # Save the annotated adata and ortho data\n",
    "    adata.write_h5ad(f\"{output_path}{name}.h5ad\")\n",
    "\n",
    "    print(f\"Finished WGCNA for {name} dataset.\")\n",
    "    print(\"=\"*70)\n",
    "\n",
    "print(\"Finished WGCNA for all datasets.\")\n"
   ]
  },
  {
   "cell_type": "markdown",
   "id": "efcf2a17-bdd2-4af8-84b3-50afeaad6b60",
   "metadata": {},
   "source": [
    "## Create AnnData including Metadata"
   ]
  },
  {
   "cell_type": "markdown",
   "id": "ae6ab44a-e79b-4bdb-8873-123f84e4ba46",
   "metadata": {},
   "source": [
    "### Settings"
   ]
  },
  {
   "cell_type": "code",
   "execution_count": 21,
   "id": "fb4b12fd-47ef-4fd0-b079-23f9ae852320",
   "metadata": {},
   "outputs": [],
   "source": [
    "name = \"AC\"\n",
    "go_path = f\"/vol/share/ranomics_app/uniprot/{name}.uniprot.goslim_plant.gaf\"\n",
    "ortho_path = \"/vol/share/ranomics_app/Ortho_Outgroup/N0.tsv\"\n",
    "ipr_path = f\"/vol/share/ranomics_app/interpro/{name}.iprid.tsv\"\n",
    "pfam_path = f\"/vol/share/ranomics_app/pfam/{name}.pfam.tsv\"\n",
    "tf_path = f\"/vol/share/ranomics_app/TFs/{name}.TF.csv\"\n",
    "up_path = f\"/vol/share/ranomics_app/uniprot/{name}.faa.annotation.csv\""
   ]
  },
  {
   "cell_type": "markdown",
   "id": "e8bdb138-ab8a-428a-87ef-b237061da9a0",
   "metadata": {},
   "source": [
    "### Create AnnData"
   ]
  },
  {
   "cell_type": "code",
   "execution_count": 23,
   "id": "f75cd47f-a00b-4d43-8b7a-1c3425922edc",
   "metadata": {},
   "outputs": [
    {
     "data": {
      "text/plain": [
       "AnnData object with n_obs × n_vars = 11 × 41063\n",
       "    obs: 'tissue'"
      ]
     },
     "metadata": {},
     "output_type": "display_data"
    }
   ],
   "source": [
    "if name == 'EC':\n",
    "    input_matrix = f\"/vol/share/ranomics_app/count_matrices2/{name}.isoform.TMM.EXPR.matrix.updated\"\n",
    "else:\n",
    "    input_matrix = f\"/vol/share/ranomics_app/count_matrices2/{name}.isoform.TMM.EXPR.matrix\"\n",
    "    \n",
    "count_df = rutils.transform_count_matrix(input_matrix)\n",
    "metadata_df = rutils.map_tissue_types(count_df)\n",
    "\n",
    "count_df = count_df.set_index('sample')\n",
    "metadata_df = metadata_df.set_index('sample')\n",
    "\n",
    "metadata_df = metadata_df.loc[count_df.index]\n",
    "\n",
    "adata = ad.AnnData(\n",
    "    X=count_df.values,              # Werte-Matrix\n",
    "    obs=metadata_df,                # Sample-Metadaten\n",
    "    var=pd.DataFrame(index=count_df.columns)   # Transkriptnamen als var.index\n",
    ")\n",
    "\n",
    "display(adata)"
   ]
  },
  {
   "cell_type": "markdown",
   "id": "468d2aff-ba2b-4ca7-bdc4-88d2fbd9f4d8",
   "metadata": {},
   "source": [
    "### Add Metadata"
   ]
  },
  {
   "cell_type": "code",
   "execution_count": 24,
   "id": "3d33bc27-5624-4fde-be21-9803a3d595ec",
   "metadata": {},
   "outputs": [
    {
     "name": "stdout",
     "output_type": "stream",
     "text": [
      "IDs in adata.var that are missing in the Uniprot file: Index([], dtype='object')\n"
     ]
    },
    {
     "data": {
      "text/plain": [
       "AnnData object with n_obs × n_vars = 11 × 41063\n",
       "    obs: 'tissue'\n",
       "    var: 'go_terms', 'n_go_terms', 'ortho_id', 'ortho_count', 'ipr_id', 'ipr_desc', 'pfam_id', 'pfam_desc', 'tf_family', 'ecnumber', 'genename', 'description', 'description_long'"
      ]
     },
     "metadata": {},
     "output_type": "display_data"
    }
   ],
   "source": [
    "rutils.add_go_terms_to_anndata(adata, go_path)\n",
    "rutils.add_ortho_id_to_anndata(adata, ortho_path, name)\n",
    "rutils.add_ipr_columns(adata, ipr_path)\n",
    "rutils.add_pfam_columns(adata, pfam_path)\n",
    "rutils.add_tf_columns(adata, tf_path)\n",
    "rutils.add_metadata_uniprot(adata, up_path)\n",
    "\n",
    "display(adata)"
   ]
  },
  {
   "cell_type": "code",
   "execution_count": 49,
   "id": "38859f82-2ca8-4f4f-bb98-19d792fc21ef",
   "metadata": {},
   "outputs": [
    {
     "name": "stdout",
     "output_type": "stream",
     "text": [
      "AnnData: AnnData object with n_obs × n_vars = 11 × 41063\n",
      "    obs: 'tissue'\n",
      "    var: 'go_terms', 'n_go_terms', 'ortho_id', 'ortho_count', 'ipr_id', 'ipr_desc', 'pfam_id', 'pfam_desc', 'tf_family', 'ecnumber', 'genename', 'description', 'description_long'\n",
      "Loaded array in 0.01 s\n",
      "Expression filter in 0.00 s\n",
      "Variance filter in 0.02 s\n",
      "Always-keep union in 4.84 s\n",
      "Subset AnnData in 0.02 s\n",
      "After filtering: 6606 genes retained (6606 total, 1785 always kept).\n",
      "Total filtering time: 4.89 s\n",
      "Filtered AnnData: AnnData object with n_obs × n_vars = 11 × 41063\n",
      "    obs: 'tissue'\n",
      "    var: 'go_terms', 'n_go_terms', 'ortho_id', 'ortho_count', 'ipr_id', 'ipr_desc', 'pfam_id', 'pfam_desc', 'tf_family', 'ecnumber', 'genename', 'description', 'description_long'\n",
      "Final AnnData shape: (11, 6606)\n"
     ]
    },
    {
     "data": {
      "text/plain": [
       "AnnData object with n_obs × n_vars = 11 × 6606\n",
       "    obs: 'tissue'\n",
       "    var: 'go_terms', 'n_go_terms', 'ortho_id', 'ortho_count', 'ipr_id', 'ipr_desc', 'pfam_id', 'pfam_desc', 'tf_family', 'ecnumber', 'genename', 'description', 'description_long'"
      ]
     },
     "execution_count": 49,
     "metadata": {},
     "output_type": "execute_result"
    }
   ],
   "source": [
    "rutils.create_anndata(\"AC\")"
   ]
  }
 ],
 "metadata": {
  "kernelspec": {
   "display_name": "Python (pywgcna_env)",
   "language": "python",
   "name": "pywgcna_env"
  },
  "language_info": {
   "codemirror_mode": {
    "name": "ipython",
    "version": 3
   },
   "file_extension": ".py",
   "mimetype": "text/x-python",
   "name": "python",
   "nbconvert_exporter": "python",
   "pygments_lexer": "ipython3",
   "version": "3.13.5"
  }
 },
 "nbformat": 4,
 "nbformat_minor": 5
}
